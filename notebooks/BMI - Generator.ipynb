{
 "cells": [
  {
   "cell_type": "code",
   "execution_count": 1,
   "metadata": {
    "collapsed": true,
    "pycharm": {
     "is_executing": false
    }
   },
   "outputs": [],
   "source": [
    "# Potrebné knižnice\n",
    "import pandas as pd\n",
    "import numpy as np\n"
   ]
  },
  {
   "cell_type": "markdown",
   "metadata": {},
   "source": [
    "# Generovanie dát\n"
   ]
  },
  {
   "cell_type": "code",
   "execution_count": 11,
   "metadata": {
    "pycharm": {
     "is_executing": false,
     "name": "#%%\n"
    }
   },
   "outputs": [
    {
     "name": "stdout",
     "output_type": "stream",
     "text": [
      "<class 'pandas.core.frame.DataFrame'>\n",
      "RangeIndex: 32 entries, 0 to 31\n",
      "Data columns (total 3 columns):\n",
      "Name      32 non-null object\n",
      "Height    32 non-null float64\n",
      "Weight    32 non-null int64\n",
      "dtypes: float64(1), int64(1), object(1)\n",
      "memory usage: 848.0+ bytes\n"
     ]
    }
   ],
   "source": [
    "names = [\n",
    "\t\"Iron Man\",\n",
    "\t\"Thor\",\n",
    "\t\"Ant-Man\",\n",
    "\t\"Wasp\",\n",
    "\t\"Hulk\",\n",
    "\t\"Captain America\",\n",
    "\t\"Hawkeye\",\n",
    "\t\"Quicksilver\",\n",
    "\t\"Scarlet Witch\",\n",
    "\t\"Swordsman\",\n",
    "\t\"Hercules\",\n",
    "\t\"Black Panther\",\n",
    "\t\"Vision\",\n",
    "\t\"Black Knight\",\n",
    "\t\"Black Widow\",\n",
    "\t\"Mantis\",\n",
    "\t\"Beast\",\n",
    "\t\"Moondragon\",\n",
    "\t\"Hellcat\",\n",
    "\t\"Two-Gun Kid\",\n",
    "\t\"Wonder Man\",\n",
    "\t\"Thing\",\n",
    "\t\"Human Torch\",\n",
    "\t\"Spider-Man\",\n",
    "\t\"Sandman\",\n",
    "\t\"Justice\",\n",
    "\t\"Wolverine\",\n",
    "\t\"Doctor Strange\",\n",
    "\t\"Daredevil\",\n",
    "\t\"Gandalf\",\n",
    "\t\"Sheldon Cooper\",\n",
    "\t\"Chuck Norris\"\n",
    "]\n",
    "\n",
    "data = {\n",
    "\t'Name': names\n",
    "}\n",
    "\n",
    "df = pd.DataFrame(columns=['Name', 'Height', 'Weight'], data=data)\n",
    "df['Height'] = np.random.randint(low=160, high=220, size=(len(df.index),1)) / 100\n",
    "df['Weight'] = np.random.randint(low=50, high=140, size=(len(df.index),1))\n",
    "\n",
    "df.info()\n",
    "df\n",
    "df.to_csv('../data/bmi.csv', sep=';')"
   ]
  }
 ],
 "metadata": {
  "kernelspec": {
   "display_name": "Python 3",
   "language": "python",
   "name": "python3"
  },
  "language_info": {
   "codemirror_mode": {
    "name": "ipython",
    "version": 3
   },
   "file_extension": ".py",
   "mimetype": "text/x-python",
   "name": "python",
   "nbconvert_exporter": "python",
   "pygments_lexer": "ipython3",
   "version": "3.7.3"
  },
  "pycharm": {
   "stem_cell": {
    "cell_type": "raw",
    "metadata": {
     "collapsed": false
    },
    "source": []
   }
  }
 },
 "nbformat": 4,
 "nbformat_minor": 1
}
