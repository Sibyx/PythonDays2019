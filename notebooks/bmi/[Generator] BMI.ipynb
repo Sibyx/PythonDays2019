{
 "cells": [
  {
   "cell_type": "code",
   "execution_count": 1,
   "metadata": {
    "collapsed": true,
    "pycharm": {
     "is_executing": false
    }
   },
   "outputs": [],
   "source": [
    "# Potrebné knižnice\n",
    "import pandas as pd\n",
    "import numpy as np\n"
   ]
  },
  {
   "cell_type": "markdown",
   "source": [
    "# Generovanie dát\n"
   ],
   "metadata": {
    "collapsed": false
   }
  },
  {
   "cell_type": "code",
   "execution_count": 11,
   "outputs": [
    {
     "name": "stdout",
     "text": [
      "<class 'pandas.core.frame.DataFrame'>\nRangeIndex: 32 entries, 0 to 31\nData columns (total 3 columns):\nName      32 non-null object\nHeight    32 non-null float64\nWeight    32 non-null int64\ndtypes: float64(1), int64(1), object(1)\nmemory usage: 848.0+ bytes\n"
     ],
     "output_type": "stream"
    }
   ],
   "source": [
    "names = [\n",
    "\t\"Iron Man\",\n",
    "\t\"Thor\",\n",
    "\t\"Ant-Man\",\n",
    "\t\"Wasp\",\n",
    "\t\"Hulk\",\n",
    "\t\"Captain America\",\n",
    "\t\"Hawkeye\",\n",
    "\t\"Quicksilver\",\n",
    "\t\"Scarlet Witch\",\n",
    "\t\"Swordsman\",\n",
    "\t\"Hercules\",\n",
    "\t\"Black Panther\",\n",
    "\t\"Vision\",\n",
    "\t\"Black Knight\",\n",
    "\t\"Black Widow\",\n",
    "\t\"Mantis\",\n",
    "\t\"Beast\",\n",
    "\t\"Moondragon\",\n",
    "\t\"Hellcat\",\n",
    "\t\"Two-Gun Kid\",\n",
    "\t\"Wonder Man\",\n",
    "\t\"Thing\",\n",
    "\t\"Human Torch\",\n",
    "\t\"Spider-Man\",\n",
    "\t\"Sandman\",\n",
    "\t\"Justice\",\n",
    "\t\"Wolverine\",\n",
    "\t\"Doctor Strange\",\n",
    "\t\"Daredevil\",\n",
    "\t\"Gandalf\",\n",
    "\t\"Sheldon Cooper\",\n",
    "\t\"Chuck Norris\"\n",
    "]\n",
    "\n",
    "data = {\n",
    "\t'Name': names\n",
    "}\n",
    "\n",
    "df = pd.DataFrame(columns=['Name', 'Height', 'Weight'], data=data)\n",
    "df['Height'] = np.random.randint(low=160, high=220, size=(len(df.index),1)) / 100\n",
    "df['Weight'] = np.random.randint(low=50, high=140, size=(len(df.index),1))\n",
    "\n",
    "df.info()\n",
    "df\n",
    "df.to_csv('../../data/bmi.csv', sep=';')"
   ],
   "metadata": {
    "collapsed": false,
    "pycharm": {
     "name": "#%%\n",
     "is_executing": false
    }
   }
  }
 ],
 "metadata": {
  "language_info": {
   "codemirror_mode": {
    "name": "ipython",
    "version": 2
   },
   "file_extension": ".py",
   "mimetype": "text/x-python",
   "name": "python",
   "nbconvert_exporter": "python",
   "pygments_lexer": "ipython2",
   "version": "2.7.6"
  },
  "kernelspec": {
   "name": "python3",
   "language": "python",
   "display_name": "Python 3"
  },
  "pycharm": {
   "stem_cell": {
    "cell_type": "raw",
    "source": [],
    "metadata": {
     "collapsed": false
    }
   }
  }
 },
 "nbformat": 4,
 "nbformat_minor": 0
}