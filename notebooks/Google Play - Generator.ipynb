{
 "cells": [
  {
   "cell_type": "code",
   "execution_count": null,
   "metadata": {},
   "outputs": [],
   "source": [
    "! pip install seaborn --upgrade\n",
    "\n",
    "import pandas as pd\n",
    "import numpy as np\n",
    "import matplotlib.pyplot as plt\n",
    "import seaborn as sns\n",
    "\n",
    "#To hide Warning messages.\n",
    "import warnings\n",
    "warnings.filterwarnings('ignore')"
   ]
  },
  {
   "cell_type": "code",
   "execution_count": null,
   "metadata": {},
   "outputs": [],
   "source": [
    "df = pd.read_csv(\"../data/playstore_original.csv\")"
   ]
  },
  {
   "cell_type": "code",
   "execution_count": null,
   "metadata": {},
   "outputs": [],
   "source": [
    "newInstalls = []\n",
    "\n",
    "for row in df.Installs:\n",
    "    row = row[:-1]\n",
    "    newRow = row.replace(\",\", \"\").replace(' ', '')\n",
    "    \n",
    "    try:\n",
    "        newInstalls.append(float(newRow))\n",
    "    except ValueError as e:\n",
    "        newInstalls.append(np.nan)\n",
    "    \n",
    "\n",
    "df.Installs = newInstalls\n",
    "\n",
    "df.Installs.head()"
   ]
  },
  {
   "cell_type": "code",
   "execution_count": null,
   "metadata": {},
   "outputs": [],
   "source": [
    "newSize = []\n",
    "\n",
    "for row in df.Size:\n",
    "    newrow = row[:-1]\n",
    "    try:\n",
    "        newSize.append(float(newrow))\n",
    "    except:\n",
    "        newSize.append(0) #Size Varies.\n",
    "    \n",
    "df.Size = newSize\n",
    "\n",
    "df.Size.head()"
   ]
  },
  {
   "cell_type": "code",
   "execution_count": null,
   "metadata": {},
   "outputs": [],
   "source": [
    "newPrice = []\n",
    "\n",
    "for row in df.Price:\n",
    "    if row != \"0\":\n",
    "        try:\n",
    "            newrow = float(row[1:])\n",
    "        except ValueError as e:\n",
    "            newrow = np.nan\n",
    "    else:\n",
    "        newrow = 0 \n",
    "        \n",
    "    newPrice.append(newrow)\n",
    "        \n",
    "df.Price = newPrice\n",
    "\n",
    "df.Price.head()"
   ]
  },
  {
   "cell_type": "code",
   "execution_count": null,
   "metadata": {},
   "outputs": [],
   "source": [
    "newVer = []\n",
    "\n",
    "for row in df['Android Ver']:\n",
    "    try:\n",
    "        newrow = float(row[:2])\n",
    "    except:\n",
    "        newrow = 0  # Varies with device\n",
    "    \n",
    "    newVer.append(newrow)\n",
    "    \n",
    "df['Android Ver'] =  newVer\n",
    "\n",
    "df['Android Ver'].value_counts()"
   ]
  },
  {
   "cell_type": "code",
   "execution_count": null,
   "metadata": {},
   "outputs": [],
   "source": [
    "df.to_csv('../data/playstore.csv')"
   ]
  }
 ],
 "metadata": {
  "kernelspec": {
   "display_name": "Python 3",
   "language": "python",
   "name": "python3"
  },
  "language_info": {
   "codemirror_mode": {
    "name": "ipython",
    "version": 3
   },
   "file_extension": ".py",
   "mimetype": "text/x-python",
   "name": "python",
   "nbconvert_exporter": "python",
   "pygments_lexer": "ipython3",
   "version": "3.7.3"
  }
 },
 "nbformat": 4,
 "nbformat_minor": 1
}
